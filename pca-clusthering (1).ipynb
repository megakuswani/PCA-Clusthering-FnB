{
 "cells": [
  {
   "cell_type": "code",
   "execution_count": 1,
   "id": "b2022465",
   "metadata": {
    "_cell_guid": "b1076dfc-b9ad-4769-8c92-a6c4dae69d19",
    "_uuid": "8f2839f25d086af736a60e9eeb907d3b93b6e0e5",
    "execution": {
     "iopub.execute_input": "2022-06-22T15:28:40.689147Z",
     "iopub.status.busy": "2022-06-22T15:28:40.688741Z",
     "iopub.status.idle": "2022-06-22T15:28:40.710312Z",
     "shell.execute_reply": "2022-06-22T15:28:40.709055Z"
    },
    "papermill": {
     "duration": 0.034526,
     "end_time": "2022-06-22T15:28:40.712761",
     "exception": false,
     "start_time": "2022-06-22T15:28:40.678235",
     "status": "completed"
    },
    "tags": []
   },
   "outputs": [
    {
     "name": "stdout",
     "output_type": "stream",
     "text": [
      "/kaggle/input/datafnb/DataFB.csv\n"
     ]
    }
   ],
   "source": [
    "# This Python 3 environment comes with many helpful analytics libraries installed\n",
    "# It is defined by the kaggle/python Docker image: https://github.com/kaggle/docker-python\n",
    "# For example, here's several helpful packages to load\n",
    "\n",
    "import numpy as np # linear algebra\n",
    "import pandas as pd # data processing, CSV file I/O (e.g. pd.read_csv)\n",
    "\n",
    "# Input data files are available in the read-only \"../input/\" directory\n",
    "# For example, running this (by clicking run or pressing Shift+Enter) will list all files under the input directory\n",
    "\n",
    "import os\n",
    "for dirname, _, filenames in os.walk('/kaggle/input'):\n",
    "    for filename in filenames:\n",
    "        print(os.path.join(dirname, filename))\n",
    "\n",
    "# You can write up to 20GB to the current directory (/kaggle/working/) that gets preserved as output when you create a version using \"Save & Run All\" \n",
    "# You can also write temporary files to /kaggle/temp/, but they won't be saved outside of the current session"
   ]
  },
  {
   "cell_type": "code",
   "execution_count": 2,
   "id": "ed18ff53",
   "metadata": {
    "execution": {
     "iopub.execute_input": "2022-06-22T15:28:40.729830Z",
     "iopub.status.busy": "2022-06-22T15:28:40.729177Z",
     "iopub.status.idle": "2022-06-22T15:28:42.165601Z",
     "shell.execute_reply": "2022-06-22T15:28:42.164288Z"
    },
    "papermill": {
     "duration": 1.446927,
     "end_time": "2022-06-22T15:28:42.168150",
     "exception": false,
     "start_time": "2022-06-22T15:28:40.721223",
     "status": "completed"
    },
    "tags": []
   },
   "outputs": [],
   "source": [
    "import pandas as pd\n",
    "import numpy as np\n",
    "from matplotlib import pyplot as plt\n",
    "import seaborn as sns\n",
    "from matplotlib.colors import ListedColormap\n",
    "from sklearn.decomposition import PCA\n",
    "from sklearn.preprocessing import StandardScaler\n",
    "from sklearn.datasets import load_iris"
   ]
  },
  {
   "cell_type": "code",
   "execution_count": 3,
   "id": "0e2992c9",
   "metadata": {
    "execution": {
     "iopub.execute_input": "2022-06-22T15:28:42.183585Z",
     "iopub.status.busy": "2022-06-22T15:28:42.182829Z",
     "iopub.status.idle": "2022-06-22T15:28:42.199769Z",
     "shell.execute_reply": "2022-06-22T15:28:42.198673Z"
    },
    "papermill": {
     "duration": 0.027589,
     "end_time": "2022-06-22T15:28:42.202402",
     "exception": false,
     "start_time": "2022-06-22T15:28:42.174813",
     "status": "completed"
    },
    "tags": []
   },
   "outputs": [],
   "source": [
    "iris = load_iris()\n",
    "\n",
    "X = pd.DataFrame(iris.data, columns = iris.feature_names)\n",
    "y = pd.Categorical.from_codes(iris.target, iris.target_names)"
   ]
  },
  {
   "cell_type": "code",
   "execution_count": 4,
   "id": "c7d56c91",
   "metadata": {
    "execution": {
     "iopub.execute_input": "2022-06-22T15:28:42.217200Z",
     "iopub.status.busy": "2022-06-22T15:28:42.216835Z",
     "iopub.status.idle": "2022-06-22T15:28:42.334649Z",
     "shell.execute_reply": "2022-06-22T15:28:42.333098Z"
    },
    "papermill": {
     "duration": 0.1277,
     "end_time": "2022-06-22T15:28:42.336684",
     "exception": true,
     "start_time": "2022-06-22T15:28:42.208984",
     "status": "failed"
    },
    "tags": []
   },
   "outputs": [
    {
     "ename": "NameError",
     "evalue": "name 'data' is not defined",
     "output_type": "error",
     "traceback": [
      "\u001b[0;31m---------------------------------------------------------------------------\u001b[0m",
      "\u001b[0;31mNameError\u001b[0m                                 Traceback (most recent call last)",
      "\u001b[0;32m/tmp/ipykernel_19/3870928973.py\u001b[0m in \u001b[0;36m<module>\u001b[0;34m\u001b[0m\n\u001b[0;32m----> 1\u001b[0;31m \u001b[0mdata\u001b[0m\u001b[0;34m.\u001b[0m\u001b[0mhead\u001b[0m\u001b[0;34m(\u001b[0m\u001b[0;34m)\u001b[0m\u001b[0;34m\u001b[0m\u001b[0;34m\u001b[0m\u001b[0m\n\u001b[0m",
      "\u001b[0;31mNameError\u001b[0m: name 'data' is not defined"
     ]
    }
   ],
   "source": [
    "data.head()"
   ]
  },
  {
   "cell_type": "code",
   "execution_count": null,
   "id": "9365084e",
   "metadata": {
    "execution": {
     "iopub.execute_input": "2022-06-22T15:25:23.197485Z",
     "iopub.status.busy": "2022-06-22T15:25:23.197091Z",
     "iopub.status.idle": "2022-06-22T15:25:23.203934Z",
     "shell.execute_reply": "2022-06-22T15:25:23.202723Z",
     "shell.execute_reply.started": "2022-06-22T15:25:23.197453Z"
    },
    "papermill": {
     "duration": null,
     "end_time": null,
     "exception": null,
     "start_time": null,
     "status": "pending"
    },
    "tags": []
   },
   "outputs": [],
   "source": [
    "Scaler = StandardScaler()\n",
    "\n",
    "X = Scaler.fit_transform(X)"
   ]
  },
  {
   "cell_type": "code",
   "execution_count": null,
   "id": "06d632e5",
   "metadata": {
    "execution": {
     "iopub.execute_input": "2022-06-22T15:25:14.870142Z",
     "iopub.status.busy": "2022-06-22T15:25:14.869736Z",
     "iopub.status.idle": "2022-06-22T15:25:14.886777Z",
     "shell.execute_reply": "2022-06-22T15:25:14.885693Z",
     "shell.execute_reply.started": "2022-06-22T15:25:14.870106Z"
    },
    "papermill": {
     "duration": null,
     "end_time": null,
     "exception": null,
     "start_time": null,
     "status": "pending"
    },
    "tags": []
   },
   "outputs": [],
   "source": [
    "X"
   ]
  },
  {
   "cell_type": "code",
   "execution_count": null,
   "id": "b43f6328",
   "metadata": {
    "execution": {
     "iopub.execute_input": "2022-06-22T15:25:14.929215Z",
     "iopub.status.busy": "2022-06-22T15:25:14.928818Z",
     "iopub.status.idle": "2022-06-22T15:25:14.951222Z",
     "shell.execute_reply": "2022-06-22T15:25:14.950189Z",
     "shell.execute_reply.started": "2022-06-22T15:25:14.929180Z"
    },
    "papermill": {
     "duration": null,
     "end_time": null,
     "exception": null,
     "start_time": null,
     "status": "pending"
    },
    "tags": []
   },
   "outputs": [],
   "source": [
    "pca = PCA(n_components=3)\n",
    "\n",
    "principal_components = pca.fit_transform(X)\n",
    "\n",
    "new_X = pd.DataFrame(data = principal_components, columns=['PC1','PC2','PC3'])"
   ]
  },
  {
   "cell_type": "code",
   "execution_count": null,
   "id": "64b51f5f",
   "metadata": {
    "execution": {
     "iopub.execute_input": "2022-06-22T15:25:14.985833Z",
     "iopub.status.busy": "2022-06-22T15:25:14.985025Z",
     "iopub.status.idle": "2022-06-22T15:25:14.996990Z",
     "shell.execute_reply": "2022-06-22T15:25:14.995865Z",
     "shell.execute_reply.started": "2022-06-22T15:25:14.985792Z"
    },
    "papermill": {
     "duration": null,
     "end_time": null,
     "exception": null,
     "start_time": null,
     "status": "pending"
    },
    "tags": []
   },
   "outputs": [],
   "source": [
    "new_X.head()"
   ]
  },
  {
   "cell_type": "code",
   "execution_count": null,
   "id": "d8df593c",
   "metadata": {
    "execution": {
     "iopub.execute_input": "2022-06-22T15:25:15.041121Z",
     "iopub.status.busy": "2022-06-22T15:25:15.039935Z",
     "iopub.status.idle": "2022-06-22T15:25:15.210125Z",
     "shell.execute_reply": "2022-06-22T15:25:15.209212Z",
     "shell.execute_reply.started": "2022-06-22T15:25:15.041068Z"
    },
    "papermill": {
     "duration": null,
     "end_time": null,
     "exception": null,
     "start_time": null,
     "status": "pending"
    },
    "tags": []
   },
   "outputs": [],
   "source": [
    "per_var = np.round(pca.explained_variance_ratio_ * 100, decimals =1)\n",
    "\n",
    "label = ['PC' + str(x) for x in range (1, len(per_var)+1)]\n",
    "\n",
    "plt.bar (x=range(1, len(per_var)+1),height=per_var,tick_label=label)\n",
    "plt.ylabel('percentage of explained variance')\n",
    "plt.xlabel('principal components')\n",
    "plt.title('scree plot')\n",
    "plt.show()"
   ]
  },
  {
   "cell_type": "code",
   "execution_count": null,
   "id": "a2c9e77a",
   "metadata": {
    "execution": {
     "iopub.execute_input": "2022-06-22T15:25:15.212861Z",
     "iopub.status.busy": "2022-06-22T15:25:15.212211Z",
     "iopub.status.idle": "2022-06-22T15:25:15.237130Z",
     "shell.execute_reply": "2022-06-22T15:25:15.236011Z",
     "shell.execute_reply.started": "2022-06-22T15:25:15.212813Z"
    },
    "papermill": {
     "duration": null,
     "end_time": null,
     "exception": null,
     "start_time": null,
     "status": "pending"
    },
    "tags": []
   },
   "outputs": [],
   "source": [
    "new_X.describe()"
   ]
  },
  {
   "cell_type": "code",
   "execution_count": null,
   "id": "6bf77af1",
   "metadata": {
    "execution": {
     "iopub.execute_input": "2022-06-22T15:25:15.239654Z",
     "iopub.status.busy": "2022-06-22T15:25:15.238875Z",
     "iopub.status.idle": "2022-06-22T15:25:15.253170Z",
     "shell.execute_reply": "2022-06-22T15:25:15.252141Z",
     "shell.execute_reply.started": "2022-06-22T15:25:15.239606Z"
    },
    "papermill": {
     "duration": null,
     "end_time": null,
     "exception": null,
     "start_time": null,
     "status": "pending"
    },
    "tags": []
   },
   "outputs": [],
   "source": [
    "display(new_X)"
   ]
  },
  {
   "cell_type": "code",
   "execution_count": null,
   "id": "8d2ebf11",
   "metadata": {
    "execution": {
     "iopub.execute_input": "2022-06-22T15:25:15.256183Z",
     "iopub.status.busy": "2022-06-22T15:25:15.255646Z",
     "iopub.status.idle": "2022-06-22T15:25:15.876274Z",
     "shell.execute_reply": "2022-06-22T15:25:15.875127Z",
     "shell.execute_reply.started": "2022-06-22T15:25:15.256147Z"
    },
    "papermill": {
     "duration": null,
     "end_time": null,
     "exception": null,
     "start_time": null,
     "status": "pending"
    },
    "tags": []
   },
   "outputs": [],
   "source": [
    "plt.figure(figsize=(20, 20))\n",
    "sns.pairplot(new_X, vars = new_X.columns[1:6]);"
   ]
  },
  {
   "cell_type": "code",
   "execution_count": null,
   "id": "20287b49",
   "metadata": {
    "execution": {
     "iopub.execute_input": "2022-06-22T15:25:15.878584Z",
     "iopub.status.busy": "2022-06-22T15:25:15.878144Z",
     "iopub.status.idle": "2022-06-22T15:25:16.385413Z",
     "shell.execute_reply": "2022-06-22T15:25:16.384039Z",
     "shell.execute_reply.started": "2022-06-22T15:25:15.878539Z"
    },
    "papermill": {
     "duration": null,
     "end_time": null,
     "exception": null,
     "start_time": null,
     "status": "pending"
    },
    "tags": []
   },
   "outputs": [],
   "source": [
    "from sklearn.cluster import KMeans\n",
    "inertia = []\n",
    "\n",
    "for i in range(1, 8):\n",
    "  kmeans = KMeans(n_clusters=i, init='k-means++', max_iter=300, n_init=10, random_state=0)\n",
    "  kmeans.fit(new_X.values)\n",
    "  inertia.append(kmeans.inertia_)\n",
    "\n",
    "plt.figure(figsize=(12, 6))\n",
    "plt.plot(inertia)"
   ]
  },
  {
   "cell_type": "code",
   "execution_count": null,
   "id": "2a379d0f",
   "metadata": {
    "execution": {
     "iopub.execute_input": "2022-06-22T15:25:16.387702Z",
     "iopub.status.busy": "2022-06-22T15:25:16.387333Z",
     "iopub.status.idle": "2022-06-22T15:25:16.426588Z",
     "shell.execute_reply": "2022-06-22T15:25:16.425716Z",
     "shell.execute_reply.started": "2022-06-22T15:25:16.387668Z"
    },
    "papermill": {
     "duration": null,
     "end_time": null,
     "exception": null,
     "start_time": null,
     "status": "pending"
    },
    "tags": []
   },
   "outputs": [],
   "source": [
    "from sklearn.cluster import KMeans\n",
    "kmeans = KMeans(n_clusters=4, init='k-means++', max_iter=300, n_init=12, random_state=0)\n",
    "label = kmeans.fit(new_X.values)"
   ]
  },
  {
   "cell_type": "code",
   "execution_count": null,
   "id": "96158033",
   "metadata": {
    "execution": {
     "iopub.execute_input": "2022-06-22T15:25:16.428651Z",
     "iopub.status.busy": "2022-06-22T15:25:16.428032Z",
     "iopub.status.idle": "2022-06-22T15:25:16.435677Z",
     "shell.execute_reply": "2022-06-22T15:25:16.434668Z",
     "shell.execute_reply.started": "2022-06-22T15:25:16.428609Z"
    },
    "papermill": {
     "duration": null,
     "end_time": null,
     "exception": null,
     "start_time": null,
     "status": "pending"
    },
    "tags": []
   },
   "outputs": [],
   "source": [
    "new_X['target'] = y\n",
    "new_X['fit'] = kmeans.labels_"
   ]
  },
  {
   "cell_type": "code",
   "execution_count": null,
   "id": "889306e3",
   "metadata": {
    "execution": {
     "iopub.execute_input": "2022-06-22T15:25:16.437428Z",
     "iopub.status.busy": "2022-06-22T15:25:16.436814Z",
     "iopub.status.idle": "2022-06-22T15:25:16.705033Z",
     "shell.execute_reply": "2022-06-22T15:25:16.703895Z",
     "shell.execute_reply.started": "2022-06-22T15:25:16.437387Z"
    },
    "papermill": {
     "duration": null,
     "end_time": null,
     "exception": null,
     "start_time": null,
     "status": "pending"
    },
    "tags": []
   },
   "outputs": [],
   "source": [
    "plt.rcParams[\"figure.figsize\"] = (8,10)\n",
    "sns.scatterplot(x='PC1', y='PC2', hue=new_X.target.to_list(), data=new_X);"
   ]
  },
  {
   "cell_type": "code",
   "execution_count": null,
   "id": "88c8726a",
   "metadata": {
    "execution": {
     "iopub.execute_input": "2022-06-22T15:25:16.707866Z",
     "iopub.status.busy": "2022-06-22T15:25:16.707541Z",
     "iopub.status.idle": "2022-06-22T15:25:16.722480Z",
     "shell.execute_reply": "2022-06-22T15:25:16.721187Z",
     "shell.execute_reply.started": "2022-06-22T15:25:16.707835Z"
    },
    "papermill": {
     "duration": null,
     "end_time": null,
     "exception": null,
     "start_time": null,
     "status": "pending"
    },
    "tags": []
   },
   "outputs": [],
   "source": [
    "new_X.head(22)"
   ]
  },
  {
   "cell_type": "code",
   "execution_count": null,
   "id": "06bc4238",
   "metadata": {
    "execution": {
     "iopub.execute_input": "2022-06-22T15:25:16.724202Z",
     "iopub.status.busy": "2022-06-22T15:25:16.723885Z",
     "iopub.status.idle": "2022-06-22T15:25:16.743024Z",
     "shell.execute_reply": "2022-06-22T15:25:16.742124Z",
     "shell.execute_reply.started": "2022-06-22T15:25:16.724174Z"
    },
    "papermill": {
     "duration": null,
     "end_time": null,
     "exception": null,
     "start_time": null,
     "status": "pending"
    },
    "tags": []
   },
   "outputs": [],
   "source": [
    "new_X.insert(0,\"Kategori\",np.nan,True)\n",
    "new_X.loc[new_X['fit'] == 0, 'Kategori'] = 0\n",
    "new_X.loc[new_X['fit'] == 1, 'Kategori'] = 1\n",
    "new_X.loc[new_X['fit'] == 2, 'Kategori'] = 2\n",
    "new_X.loc[new_X['fit'] == 3, 'Kategori'] = 3\n",
    "new_X['Kategori'] = new_X['Kategori'].astype(int)\n",
    "new_X.head(10)"
   ]
  },
  {
   "cell_type": "code",
   "execution_count": null,
   "id": "8db0b28e",
   "metadata": {
    "execution": {
     "iopub.execute_input": "2022-06-22T15:25:16.744771Z",
     "iopub.status.busy": "2022-06-22T15:25:16.744318Z",
     "iopub.status.idle": "2022-06-22T15:25:16.758819Z",
     "shell.execute_reply": "2022-06-22T15:25:16.757955Z",
     "shell.execute_reply.started": "2022-06-22T15:25:16.744742Z"
    },
    "papermill": {
     "duration": null,
     "end_time": null,
     "exception": null,
     "start_time": null,
     "status": "pending"
    },
    "tags": []
   },
   "outputs": [],
   "source": [
    "new_X.drop([\"fit\",\"target\"], axis=1, inplace=True)\n",
    "new_X.columns = ['Kategori','PC1 (St.)','PC2 (St.)', 'PC3 (St.)']\n",
    "new_X.info()"
   ]
  },
  {
   "cell_type": "code",
   "execution_count": null,
   "id": "d4533d6f",
   "metadata": {
    "execution": {
     "iopub.execute_input": "2022-06-22T15:25:16.760704Z",
     "iopub.status.busy": "2022-06-22T15:25:16.760260Z",
     "iopub.status.idle": "2022-06-22T15:25:17.342659Z",
     "shell.execute_reply": "2022-06-22T15:25:17.341507Z",
     "shell.execute_reply.started": "2022-06-22T15:25:16.760674Z"
    },
    "papermill": {
     "duration": null,
     "end_time": null,
     "exception": null,
     "start_time": null,
     "status": "pending"
    },
    "tags": []
   },
   "outputs": [],
   "source": [
    "from mpl_toolkits.mplot3d import Axes3D\n",
    "\n",
    "fig = plt.figure()\n",
    "ax = fig.add_subplot(111, projection = '3d')\n",
    "\n",
    "\n",
    "x = new_X['PC1 (St.)']\n",
    "y = new_X['PC2 (St.)']\n",
    "z = new_X['PC3 (St.)']\n",
    "\n",
    "ax.set_xlabel(\"PC1 (St.)\")\n",
    "ax.set_ylabel(\"PC2 (St.)\")\n",
    "ax.set_zlabel(\"PC3 (St.)\")\n",
    "\n",
    "cmap = ListedColormap(sns.color_palette(\"RdYlGn\", 256).as_hex())\n",
    "\n",
    "sc = ax.scatter(x, y, z, s=40, c=new_X['Kategori'], marker='o', cmap=cmap, alpha=1)\n",
    "plt.legend(*sc.legend_elements(), bbox_to_anchor=(1.05, 1), loc=2)\n",
    "\n",
    "plt.show()"
   ]
  },
  {
   "cell_type": "code",
   "execution_count": null,
   "id": "cc95c557",
   "metadata": {
    "execution": {
     "iopub.execute_input": "2022-06-22T15:25:17.345088Z",
     "iopub.status.busy": "2022-06-22T15:25:17.344290Z",
     "iopub.status.idle": "2022-06-22T15:25:17.353164Z",
     "shell.execute_reply": "2022-06-22T15:25:17.352000Z",
     "shell.execute_reply.started": "2022-06-22T15:25:17.345042Z"
    },
    "papermill": {
     "duration": null,
     "end_time": null,
     "exception": null,
     "start_time": null,
     "status": "pending"
    },
    "tags": []
   },
   "outputs": [],
   "source": [
    "kmeans.cluster_centers_"
   ]
  },
  {
   "cell_type": "code",
   "execution_count": null,
   "id": "3361f81e",
   "metadata": {
    "execution": {
     "iopub.execute_input": "2022-06-22T15:25:17.355797Z",
     "iopub.status.busy": "2022-06-22T15:25:17.354884Z",
     "iopub.status.idle": "2022-06-22T15:25:17.573492Z",
     "shell.execute_reply": "2022-06-22T15:25:17.572501Z",
     "shell.execute_reply.started": "2022-06-22T15:25:17.355749Z"
    },
    "papermill": {
     "duration": null,
     "end_time": null,
     "exception": null,
     "start_time": null,
     "status": "pending"
    },
    "tags": []
   },
   "outputs": [],
   "source": [
    "from mpl_toolkits.mplot3d import Axes3D\n",
    "\n",
    "fig = plt.figure()\n",
    "ax = fig.add_subplot(111, projection = '3d')\n",
    "x = [-0.73892945, -0.77667668,  0.92855069]\n",
    "y = [3.84479593, -1.40197943, -0.38134442]\n",
    "z = [0.07820117,  0.83620382, -0.02182411]\n",
    "\n",
    "ax.set_xlabel(\"PC1 (St.)\")\n",
    "ax.set_ylabel(\"PC2 (St.)\")\n",
    "ax.set_zlabel(\"PC3 (St.)\")\n",
    "ax.scatter(x, y, z)\n",
    "plt.show()"
   ]
  }
 ],
 "metadata": {
  "kernelspec": {
   "display_name": "Python 3",
   "language": "python",
   "name": "python3"
  },
  "language_info": {
   "codemirror_mode": {
    "name": "ipython",
    "version": 3
   },
   "file_extension": ".py",
   "mimetype": "text/x-python",
   "name": "python",
   "nbconvert_exporter": "python",
   "pygments_lexer": "ipython3",
   "version": "3.7.12"
  },
  "papermill": {
   "default_parameters": {},
   "duration": 12.256953,
   "end_time": "2022-06-22T15:28:43.067517",
   "environment_variables": {},
   "exception": true,
   "input_path": "__notebook__.ipynb",
   "output_path": "__notebook__.ipynb",
   "parameters": {},
   "start_time": "2022-06-22T15:28:30.810564",
   "version": "2.3.4"
  }
 },
 "nbformat": 4,
 "nbformat_minor": 5
}
